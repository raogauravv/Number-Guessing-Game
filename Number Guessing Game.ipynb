{
 "cells": [
  {
   "cell_type": "markdown",
   "metadata": {},
   "source": [
    "# NUMBER GUESSING GAME"
   ]
  },
  {
   "cell_type": "code",
   "execution_count": 78,
   "metadata": {},
   "outputs": [
    {
     "name": "stdout",
     "output_type": "stream",
     "text": [
      "Welcome to the number guessing game\n",
      "Choose a number between 1 and 100: 50\n",
      "Your number is greater\n",
      "\n",
      "Enter the number again: 31\n",
      "Your guess is correct\n",
      "You win the game in 2 times\n"
     ]
    }
   ],
   "source": [
    "print(\"Welcome to the number guessing game\")\n",
    "import random\n",
    "number=random.randint(1,100)\n",
    "count=1\n",
    "user=int(input(\"Choose a number between 1 and 100: \"))\n",
    "flag=True\n",
    "while flag!=False :\n",
    "    if user==number:\n",
    "        print(\"Your guess is correct\")\n",
    "        flag=False\n",
    "    else:\n",
    "        if user>number and count!=5:\n",
    "            count+=1\n",
    "            print(\"Your number is greater\")\n",
    "            flag=True\n",
    "            print()\n",
    "            user=int(input(\"Enter the number again: \"))\n",
    "            \n",
    "\n",
    "        else:\n",
    "            count+=1\n",
    "            print(\"your number is lower\")\n",
    "            flag=True\n",
    "            print()\n",
    "            if count>5:\n",
    "                print(\"You have lost the game as you have exceeded 5 chances!\")\n",
    "                print(\"The correct number was:\",number)\n",
    "                break\n",
    "            user=int(input(\"Enter the number again: \"))\n",
    "            \n",
    "            \n",
    "\n",
    "if count<=5:\n",
    "    print(\"You win the game in\",count,\"times\")\n"
   ]
  }
 ],
 "metadata": {
  "kernelspec": {
   "display_name": "Python 3",
   "language": "python",
   "name": "python3"
  },
  "language_info": {
   "codemirror_mode": {
    "name": "ipython",
    "version": 3
   },
   "file_extension": ".py",
   "mimetype": "text/x-python",
   "name": "python",
   "nbconvert_exporter": "python",
   "pygments_lexer": "ipython3",
   "version": "3.6.5"
  }
 },
 "nbformat": 4,
 "nbformat_minor": 2
}
